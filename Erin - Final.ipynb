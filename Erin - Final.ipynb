{
 "cells": [
  {
   "cell_type": "markdown",
   "metadata": {},
   "source": [
    "# Prisonization Agent-Based Model\n",
    "\n",
    "### Midterm Checkpoint: March 25, 2016\n",
    "\n",
    "### Erin Lane\n",
    "* Course ID: CMPLXSYS 530\n",
    "* Course Title: Computer Modeling of Complex Systems\n",
    "* Term: Winter, 2016\n",
    "\n"
   ]
  },
  {
   "cell_type": "markdown",
   "metadata": {},
   "source": [
    "### Goal\n",
    "In this project, I explore the relationship between density of formerly incarcerated individuals within a neighborhood and likelihood that prison culture becomes embedded into a neighborhood’s culture (\"prisonization\"), using an adaptation of Axelrod’s model of cultural dissemination (1997). \n",
    "\n",
    "### Justification\n",
    "Through the rise of mass incarceration over the last thirty years, American communities contain more people than ever before who have experienced incarceration. Many low-income and minority communities, disproportionately affected by tough-on-crime legislation, have particularly high concentrations of people returning home from jails and prisons. Prisons, as total institutions, tend to develop their own subcultures as their members are forced to alter their conceptions of self (Goffman 1961). Whether this prison subculture spreads to communities receiving large numbers of former inmates is unknown. \n",
    "\n",
    "Econometric approaches for estimating effects of incarceration on neighborhoods are generally not feasible due to multidirectional causality. An agent-based modeling approach to understanding this relationship provides bottom-up insight into understanding how influences at the individual level can cause community-level changes in culture. Through the agent-based model I am developing, I can explore the shape of the relationship between density of previously incarcerated individuals in a neighbhorhood and the likelihood that the overall neighborhood culture changes as a result of cultural traits picked up by individuals during incarceration. \n",
    "\n",
    "### Outcome measures\n",
    "The outcome of interest in this model is the shape of the relationship between initial prisionization levels and equilibrium prisonization levels. A linear or concave relationship between these two levels indicate that there are no compounding effects of high-density incarceration on neighbhorhood culture, whereas a convex relationship indicates that prison culture can spread to the wider community once incarceration reaches some tipping point. \n",
    "\n",
    "### Model outline\n",
    "\n",
    "#### 1. Space\n",
    "The space is a two-dimensional grid, where the edges wrap around to form a torus. \n",
    "\n",
    "#### 2. Agents\n",
    "The agents are individuals that reside on the grid. Each space on the grid contains an agent. Agents all have a vector of cultural traits, of which *prisonized* is one. \n",
    "\n",
    "#### 3. Classes\n",
    "The model contains three classes:\n",
    "* An *Agent* class related to agents in the model\n",
    "* A *Features* class related to cultural traits possessed by agents\n",
    "* A *Grid* class related to the space in which the agents reside\n",
    "\n",
    "#### 4. Parameters\n",
    "The model consists of four parameters \n",
    "* *gridSize*: Grid length and width\n",
    "* *prisPct*: The initial level of prisonization \n",
    "* *traitCounts*: A vector with length indicating the number of cultural features, where each element contains the number possible values for each feature. The first element of the vector represents prisonization and will always be 2, indicating that there are two possible values for prisonized\n",
    "* *contagion*: The likelihood that a trait will be passed from a neighbor to an agent, given that the agent and the neighbor have at least one trait in common\n",
    "\n",
    "#### 5. Model summary\n",
    "The model is initialized by creating a *gridSize* by *gridSize* grid, and creating  agents to populate the grid. Each agent is randomly assigned a vector indicating that agent's cultural features. *prisPct* percent of agents in the model are randomly designated as having previously been prisonized as a result of incarceration at the start of the model. \n",
    "\n",
    "To begin a single step of the model, an agent is picked at random. Next, one of that agent’s four neighbors (north, south, east, and west) is randomly chosen. Each of the agent’s features, including prisonization, is compared to those if its neighbor. If the agent has any features in common with its neighbor, the agent “interacts” with its neighbor, and takes on one of the neighbor’s randomly chosen non-shared features (including prisonization) with probability *contagion*. \n",
    "\n",
    "Steps are repeated until the model reaches equilibrium. This occurs when all agents have either all features or no features in common with all of their neighbors, thus no further cultural contagion is possible. According to the Axelrod model, this should lead to some number of groups that are culturally homogenous. \n",
    "\n",
    "Once the model reaches equilibrium, I will calculate equilibrium proportion of agents who are prisonized. \n",
    "\n",
    "#### 6. Parameter sweep\n",
    "I will choose fixed values for *gridSize*, *traitCounts*, and *contagion*, and then sweep through values between 0 and 1 of *prisPct*, with increments of 0.05. For each value of *prisPct*, I will run the model 1,000 times. I will then collect the model parameters and the equilibrium proportion of prisonized agents and explore the relationship between initial and equilibrium prisonization levels. \n"
   ]
  },
  {
   "cell_type": "markdown",
   "metadata": {},
   "source": [
    "## Prisonization contagion simulator"
   ]
  },
  {
   "cell_type": "markdown",
   "metadata": {},
   "source": [
    "### Imports"
   ]
  },
  {
   "cell_type": "code",
   "execution_count": 286,
   "metadata": {
    "collapsed": false
   },
   "outputs": [],
   "source": [
    "# Import necesary modules\n",
    "\n",
    "%matplotlib inline \n",
    "import random\n",
    "import time\n",
    "import matplotlib.pyplot as plt\n",
    "import numpy\n",
    "# import seaborn; seaborn.set()"
   ]
  },
  {
   "cell_type": "code",
   "execution_count": 287,
   "metadata": {
    "collapsed": true
   },
   "outputs": [],
   "source": [
    "# Helper function for getting the current time in seconds\n",
    "millis = lambda: int(round(time.time()*1000))"
   ]
  },
  {
   "cell_type": "markdown",
   "metadata": {},
   "source": [
    "### Features class"
   ]
  },
  {
   "cell_type": "code",
   "execution_count": 288,
   "metadata": {
    "collapsed": true
   },
   "outputs": [],
   "source": [
    "'''\n",
    "Features class:\n",
    "    Static vars:\n",
    "        * traitCounts - an array with length equal to the feature count. Each\n",
    "            element holds an integer representing the number of possible traits\n",
    "            for the corresponding feature.\n",
    "\n",
    "    Object vars:\n",
    "        * curTraits - an array with length equal to the feature count. Each\n",
    "            element holds the current trait value for the corresponding feature.\n",
    "            For the purposes of this model, curTraits[0] represets the binary\n",
    "            trait for the prisionization feature.\n",
    "\n",
    "    Static methods:\n",
    "        * init(traitCounts, prisPct) - sets the feature count, traitCounts,\n",
    "            and initial relative prisionization.\n",
    "\n",
    "    Object methods:\n",
    "        * randomizeTraits - sets random traits for each feature in the object\n",
    "        * setTrait - sets the trait of a selected feature.\n",
    "'''\n",
    "class Features(object):\n",
    "\n",
    "    # Initialize the feature count and the trait ranges for those features\n",
    "    @staticmethod\n",
    "    def init(traitCounts):\n",
    "        Features.count = len(traitCounts)\n",
    "        Features.traitCounts = traitCounts\n",
    "\n",
    "    def __init__(self):\n",
    "        # Initialize an empty array with a location for each current trait\n",
    "        self.curTraits = [0 for i in range(Features.count)]\n",
    "        self.randomizeTraits()\n",
    "        self.setTrait(0,0)\n",
    "\n",
    "    def randomizeTraits(self):\n",
    "        for i in range(1, Features.count):\n",
    "            self.curTraits[i] = random.randint(0, self.traitCounts[i]-1)\n",
    "\n",
    "    def setTrait(self, which, val):\n",
    "        self.curTraits[which] = val\n",
    "        "
   ]
  },
  {
   "cell_type": "markdown",
   "metadata": {},
   "source": [
    "### Agent class"
   ]
  },
  {
   "cell_type": "code",
   "execution_count": 289,
   "metadata": {
    "collapsed": true
   },
   "outputs": [],
   "source": [
    "'''\n",
    "Agent class:\n",
    "    Object vars:\n",
    "        * grid - a reference to the grid in which the agent is located\n",
    "        * row - row of the grid in which the agent is located\n",
    "        * col - column of the grid in which the agent is located\n",
    "        * features - the features object\n",
    "\n",
    "    Object methods:\n",
    "        * printTraits - prints to console the current traits for this agent\n",
    "        * influencePossible - returns a boolean value indicating whether the\n",
    "            agent could be influenced by any of its neighbors\n",
    "        * isInfluenced(neighbor) - returns a boolean value indicating whether\n",
    "            a new interaction with a given neighbor causes the agent to be\n",
    "            influenced\n",
    "        * isPrisonized - returns a boolean value indicating whether the agent\n",
    "            is currently prisionized\n",
    "        * similarity(neighbor) - returns a similarity index from 0.0 to 1.0\n",
    "            indicating the agent's cultural similarity to the given neighbor\n",
    "        * differingTraits(neighbor) - returns an array containing values of the\n",
    "            features for which the agent and the given neighbor do not share\n",
    "            the same trait\n",
    "        * inheritTrait(neighbor) - causes the agent to inherit a randomly\n",
    "            selected feature trait from the given neighbor\n",
    "        * executeModel - selects a random neighbor, tests whether the agent\n",
    "            is influenced, and if it is, causes the agent to inherit a trait\n",
    "            from that neighbor\n",
    "'''\n",
    "class Agent(object):\n",
    "    \n",
    "    def __init__(self, row, col, grid):\n",
    "        self.grid = grid\n",
    "        self.row = row\n",
    "        self.col = col\n",
    "        self.features = Features()\n",
    "\n",
    "    def printTraits(self):\n",
    "        print self.features.curTraits\n",
    "\n",
    "    def influencePossible(self):\n",
    "        # Get all neighbors\n",
    "        r = self.row\n",
    "        c = self.col\n",
    "        \n",
    "        neighbors = [grid.getAgent((r+1) % self.grid.size, c), grid.getAgent((r-1) % self.grid.size, c), \\\n",
    "            grid.getAgent(r, (c-1) % self.grid.size), grid.getAgent(r, (c+1) % self.grid.size)]                \n",
    "                          \n",
    "        # Influence is possible if similarity to any neighbor is between 0 and 1\n",
    "        for i in range(len(neighbors)):\n",
    "            similarity = self.similarity(neighbors[i])\n",
    "            if similarity > 0 and similarity < 1:\n",
    "                return True\n",
    "        return False\n",
    "    \n",
    "    def isInfluenced(self, neighbor):\n",
    "        sim = self.similarity(neighbor)\n",
    "        if sim ==1 or sim ==0:\n",
    "            return False\n",
    "        elif contagion > random.random:\n",
    "            return True \n",
    "    \n",
    "    def isPrisonized(self):\n",
    "        return True if self.features.curTraits[0] == 1 else False\n",
    "\n",
    "    def similarity(self, neighbor):\n",
    "        matchingTraits = 0\n",
    "        for x in range (Features.count):\n",
    "            if self.features.curTraits[x] == neighbor.features.curTraits[x]:\n",
    "                matchingTraits += 1\n",
    "        return float(matchingTraits) / Features.count\n",
    "\n",
    "    def differingTraits(self, neighbor):\n",
    "        diffTraits = []\n",
    "        for x in range (Features.count):\n",
    "            if self.features.curTraits[x] != neighbor.features.curTraits[x]:\n",
    "                diffTraits.append(x)\n",
    "        return diffTraits\n",
    "\n",
    "    def inheritTrait(self, neighbor):\n",
    "        which = random.choice(self.differingTraits(neighbor))\n",
    "        self.features.curTraits[which] = neighbor.features.curTraits[which]\n",
    "\n",
    "    def executeModel(self):\n",
    "        # Pick a neighbor location\n",
    "        # I changed this to use NSEW neighbors, and to wrap around the grid\n",
    "        if random.random > .5:    \n",
    "            row = (self.row + random.choice([1, -1])) % self.grid.size\n",
    "            col = self.col\n",
    "        else:\n",
    "            row = self.row\n",
    "            col = (self.col + random.choice([1, -1])) % self.grid.size\n",
    "        # Retrieve neighbor\n",
    "        neighbor = self.grid.getAgent(row, col)\n",
    "        # If the agent is influenced, inherit a trait from neighbor\n",
    "        if self.isInfluenced(neighbor):\n",
    "            self.inheritTrait(neighbor)"
   ]
  },
  {
   "cell_type": "markdown",
   "metadata": {},
   "source": [
    "### Grid class"
   ]
  },
  {
   "cell_type": "code",
   "execution_count": 290,
   "metadata": {
    "collapsed": false
   },
   "outputs": [],
   "source": [
    "'''\n",
    "Grid class:\n",
    "    Object vars:\n",
    "        * size - the height / width of the grid\n",
    "        * agents - a 2D matrix where each element contains an agent\n",
    "\n",
    "    Object methods:\n",
    "        * getLocationCount - returns the total number of elements in the\n",
    "            agents matrix   \n",
    "        * addAgent(row, col) - adds a new agent at the specified matrix location\n",
    "        * getAgent(row, col) - returns the agent object from the specified\n",
    "            matrix location\n",
    "        * getPrisPortion - returns a value from 0.0 to 1.0 representing the\n",
    "            portion of the total grid population that is currently prisionized\n",
    "        * isAtEquilibrium - returns a boolean value indicating whether the\n",
    "            grid object is currently at equilibrium (this occurs when every\n",
    "            agent in the grid either completly shares the culture of all its\n",
    "            neighbors or shares no culture with its neighbors)\n",
    "'''\n",
    "class Grid(object):\n",
    "\n",
    "    def __init__(self, size):\n",
    "        self.agents = [[0 for x in range(size)] for x in range(size)]\n",
    "        self.size = size\n",
    "\n",
    "    def getLocationCount(self):\n",
    "        count = self.size * self.size\n",
    "        return count\n",
    "\n",
    "    def addAgent(self, row, col):\n",
    "        self.agents[row][col] = Agent(row, col, self)\n",
    "\n",
    "    def getAgent(self, row, col):\n",
    "        return self.agents[row][col]\n",
    "        \n",
    "    def getPrisPortion(self):\n",
    "        prisPop = 0\n",
    "        for x in range(self.size):\n",
    "            for y in range(self.size):\n",
    "                if self.getAgent(x, y).isPrisonized():\n",
    "                    prisPop += 1\n",
    "        return float(prisPop) / self.getLocationCount()\n",
    "\n",
    "    def isAtEquilibrium(self):\n",
    "        for x in range(self.size):\n",
    "            for y in range(self.size):\n",
    "                if(self.getAgent(x, y).influencePossible()):\n",
    "                    return False\n",
    "        return True\n",
    "\n"
   ]
  },
  {
   "cell_type": "markdown",
   "metadata": {},
   "source": [
    "### Parameters"
   ]
  },
  {
   "cell_type": "code",
   "execution_count": 291,
   "metadata": {
    "collapsed": true
   },
   "outputs": [],
   "source": [
    "# Parameters\n",
    "\n",
    "gridSize = 3\n",
    "prisPct = 0.2\n",
    "contagion = 1\n",
    " \n",
    "'''\n",
    "Set the possible trait counts for the features. In this case, prisionization\n",
    "is binary while the other features have some other abitrary number of traits\n",
    "associated with them.\n",
    "'''\n",
    "traitCounts = [2,3,3,3]\n",
    "\n",
    "'''\n",
    "Initialize the features class with the number of different traits for each of\n",
    "the features and the initial relative prisionization rate.\n",
    "'''\n",
    "Features.init(traitCounts)"
   ]
  },
  {
   "cell_type": "markdown",
   "metadata": {},
   "source": [
    "### Initialization"
   ]
  },
  {
   "cell_type": "code",
   "execution_count": 284,
   "metadata": {
    "collapsed": false
   },
   "outputs": [
    {
     "ename": "IndexError",
     "evalue": "list index out of range",
     "output_type": "error",
     "traceback": [
      "\u001b[0;31m---------------------------------------------------------------------------\u001b[0m",
      "\u001b[0;31mIndexError\u001b[0m                                Traceback (most recent call last)",
      "\u001b[0;32m<ipython-input-284-8c05fd17c993>\u001b[0m in \u001b[0;36m<module>\u001b[0;34m()\u001b[0m\n\u001b[1;32m     12\u001b[0m     \u001b[0mrow\u001b[0m \u001b[0;34m=\u001b[0m \u001b[0mrandom\u001b[0m\u001b[0;34m.\u001b[0m\u001b[0mrandint\u001b[0m\u001b[0;34m(\u001b[0m\u001b[0;36m0\u001b[0m\u001b[0;34m,\u001b[0m\u001b[0mgrid\u001b[0m\u001b[0;34m.\u001b[0m\u001b[0msize\u001b[0m\u001b[0;34m)\u001b[0m\u001b[0;34m\u001b[0m\u001b[0m\n\u001b[1;32m     13\u001b[0m     \u001b[0mcol\u001b[0m \u001b[0;34m=\u001b[0m \u001b[0mrandom\u001b[0m\u001b[0;34m.\u001b[0m\u001b[0mrandint\u001b[0m\u001b[0;34m(\u001b[0m\u001b[0;36m0\u001b[0m\u001b[0;34m,\u001b[0m\u001b[0mgrid\u001b[0m\u001b[0;34m.\u001b[0m\u001b[0msize\u001b[0m\u001b[0;34m)\u001b[0m\u001b[0;34m\u001b[0m\u001b[0m\n\u001b[0;32m---> 14\u001b[0;31m     \u001b[0magent\u001b[0m \u001b[0;34m=\u001b[0m \u001b[0mgrid\u001b[0m\u001b[0;34m.\u001b[0m\u001b[0mgetAgent\u001b[0m\u001b[0;34m(\u001b[0m\u001b[0mrow\u001b[0m\u001b[0;34m,\u001b[0m \u001b[0mcol\u001b[0m\u001b[0;34m)\u001b[0m\u001b[0;34m\u001b[0m\u001b[0m\n\u001b[0m\u001b[1;32m     15\u001b[0m     \u001b[0;32mif\u001b[0m \u001b[0magent\u001b[0m\u001b[0;34m.\u001b[0m\u001b[0misPrisonized\u001b[0m\u001b[0;34m(\u001b[0m\u001b[0;34m)\u001b[0m \u001b[0;34m==\u001b[0m \u001b[0mFalse\u001b[0m\u001b[0;34m:\u001b[0m\u001b[0;34m\u001b[0m\u001b[0m\n\u001b[1;32m     16\u001b[0m         \u001b[0magent\u001b[0m\u001b[0;34m.\u001b[0m\u001b[0mfeatures\u001b[0m\u001b[0;34m.\u001b[0m\u001b[0msetTrait\u001b[0m\u001b[0;34m(\u001b[0m\u001b[0;36m0\u001b[0m\u001b[0;34m,\u001b[0m\u001b[0;36m1\u001b[0m\u001b[0;34m)\u001b[0m\u001b[0;34m\u001b[0m\u001b[0m\n",
      "\u001b[0;32m<ipython-input-282-d41f910d729e>\u001b[0m in \u001b[0;36mgetAgent\u001b[0;34m(self, row, col)\u001b[0m\n\u001b[1;32m     32\u001b[0m \u001b[0;34m\u001b[0m\u001b[0m\n\u001b[1;32m     33\u001b[0m     \u001b[0;32mdef\u001b[0m \u001b[0mgetAgent\u001b[0m\u001b[0;34m(\u001b[0m\u001b[0mself\u001b[0m\u001b[0;34m,\u001b[0m \u001b[0mrow\u001b[0m\u001b[0;34m,\u001b[0m \u001b[0mcol\u001b[0m\u001b[0;34m)\u001b[0m\u001b[0;34m:\u001b[0m\u001b[0;34m\u001b[0m\u001b[0m\n\u001b[0;32m---> 34\u001b[0;31m         \u001b[0;32mreturn\u001b[0m \u001b[0mself\u001b[0m\u001b[0;34m.\u001b[0m\u001b[0magents\u001b[0m\u001b[0;34m[\u001b[0m\u001b[0mrow\u001b[0m\u001b[0;34m]\u001b[0m\u001b[0;34m[\u001b[0m\u001b[0mcol\u001b[0m\u001b[0;34m]\u001b[0m\u001b[0;34m\u001b[0m\u001b[0m\n\u001b[0m\u001b[1;32m     35\u001b[0m \u001b[0;34m\u001b[0m\u001b[0m\n\u001b[1;32m     36\u001b[0m \u001b[0;34m\u001b[0m\u001b[0m\n",
      "\u001b[0;31mIndexError\u001b[0m: list index out of range"
     ]
    }
   ],
   "source": [
    "# Initialize the grid size, add agents\n",
    "grid = Grid(gridSize)\n",
    "for x in range(grid.size):\n",
    "    for y in range(grid.size):\n",
    "        grid.addAgent(x, y)\n",
    "\n",
    "# Assign initial prisionization \n",
    "x = round(prisPct*grid.getLocationCount())\n",
    "loopCount = 0 \n",
    "while x > 0:\n",
    "    loopCount += 1\n",
    "    row = random.randint(0,grid.size)\n",
    "    col = random.randint(0,grid.size)\n",
    "    agent = grid.getAgent(row, col)\n",
    "    if agent.isPrisonized() == False:\n",
    "        agent.features.setTrait(0,1)\n",
    "        x -= 1\n",
    "        \n"
   ]
  },
  {
   "cell_type": "code",
   "execution_count": 285,
   "metadata": {
    "collapsed": false
   },
   "outputs": [
    {
     "name": "stdout",
     "output_type": "stream",
     "text": [
      "Starting prisionization: 0.0\n",
      "Loops: 1\n"
     ]
    }
   ],
   "source": [
    "# Report starting state\n",
    "print \"Starting prisionization: \" + str(grid.getPrisPortion())\n",
    "print \"Loops: \" + str(loopCount)"
   ]
  },
  {
   "cell_type": "code",
   "execution_count": 292,
   "metadata": {
    "collapsed": false
   },
   "outputs": [
    {
     "name": "stdout",
     "output_type": "stream",
     "text": [
      "(0, 0) [0, 1, 1, 2]\n",
      "(1, 0) [0, 0, 1, 1]\n",
      "(2, 0) [0, 0, 1, 2]\n",
      "(0, 1) [0, 0, 2, 2]\n",
      "(1, 1) [0, 1, 1, 0]\n",
      "(2, 1) [0, 1, 0, 2]\n",
      "(0, 2) [0, 0, 0, 1]\n",
      "(1, 2) [0, 1, 1, 2]\n",
      "(2, 2) [0, 1, 2, 0]\n"
     ]
    }
   ],
   "source": [
    "for col in range(grid.size):\n",
    "    for row in range(grid.size):\n",
    "        agent = grid.getAgent(row, col)\n",
    "        print \"(\" + str(row) + \", \" + str(col) + \") \" + str(agent.features.curTraits)"
   ]
  },
  {
   "cell_type": "markdown",
   "metadata": {},
   "source": [
    "### Model run"
   ]
  },
  {
   "cell_type": "code",
   "execution_count": 293,
   "metadata": {
    "collapsed": false
   },
   "outputs": [
    {
     "name": "stdout",
     "output_type": "stream",
     "text": [
      "1,1\n",
      "2,1\n",
      "2,2\n",
      "1,1\n",
      "1,2\n",
      "2,0\n",
      "1,2\n",
      "0,0\n",
      "0,1\n",
      "2,0\n",
      "1,0\n"
     ]
    },
    {
     "data": {
      "text/plain": [
       "\"\\nNOTE: There's something wrong with my model, and it's not reaching equilibrium.\\nI've been interrupting this cell when I run the model.\\n\""
      ]
     },
     "execution_count": 293,
     "metadata": {},
     "output_type": "execute_result"
    }
   ],
   "source": [
    "# Run the model\n",
    "iteration = 0\n",
    "running = True\n",
    "startTime = millis()\n",
    "while running:\n",
    "    \n",
    "    # Select a random agent for this model step, then execute the model it\n",
    "    thisAgent = grid.getAgent(random.randint(0, (grid.size - 1)), random.randint(0, (grid.size - 1)))\n",
    "    thisAgent.executeModel()\n",
    "    iteration += 1\n",
    "    print str(thisAgent.row) + \",\" + str(thisAgent.col)\n",
    "    # Only check for equilibrium once in a while to save time\n",
    "#    if iteration % 10 == 0:\n",
    "#        if grid.isAtEquilibrium():\n",
    "#            running = False\n",
    "    # Temp: 10 iterations\n",
    "    if iteration > 10:\n",
    "        running = False\n",
    "            \n",
    "'''\n",
    "NOTE: There's something wrong with my model, and it's not reaching equilibrium.\n",
    "I've been interrupting this cell when I run the model.\n",
    "''' \n"
   ]
  },
  {
   "cell_type": "markdown",
   "metadata": {},
   "source": [
    "### Model output"
   ]
  },
  {
   "cell_type": "code",
   "execution_count": 294,
   "metadata": {
    "collapsed": false
   },
   "outputs": [
    {
     "name": "stdout",
     "output_type": "stream",
     "text": [
      "Completion time: 2725 milliseconds\n",
      "Model reached equilibrium after 11 increments\n",
      "Ending prisionization: 0.0\n",
      "(0, 0) [0, 1, 1, 2]\n",
      "(1, 0) [0, 0, 1, 1]\n",
      "(2, 0) [0, 0, 1, 2]\n",
      "(0, 1) [0, 0, 2, 2]\n",
      "(1, 1) [0, 1, 1, 0]\n",
      "(2, 1) [0, 1, 0, 2]\n",
      "(0, 2) [0, 0, 0, 1]\n",
      "(1, 2) [0, 1, 1, 2]\n",
      "(2, 2) [0, 1, 2, 0]\n"
     ]
    }
   ],
   "source": [
    "# Report model results\n",
    "print \"Completion time: \" + str((millis() - startTime)) + \" milliseconds\"\n",
    "print \"Model reached equilibrium after \" + str(iteration) + \" increments\"\n",
    "print \"Ending prisionization: \" + str(grid.getPrisPortion())\n",
    "\n",
    "for col in range(grid.size):\n",
    "    for row in range(grid.size):\n",
    "        agent = grid.getAgent(row, col)\n",
    "        print \"(\" + str(row) + \", \" + str(col) + \") \" + str(agent.features.curTraits)"
   ]
  },
  {
   "cell_type": "code",
   "execution_count": null,
   "metadata": {
    "collapsed": true
   },
   "outputs": [],
   "source": []
  }
 ],
 "metadata": {
  "kernelspec": {
   "display_name": "Python 2",
   "language": "python",
   "name": "python2"
  },
  "language_info": {
   "codemirror_mode": {
    "name": "ipython",
    "version": 2
   },
   "file_extension": ".py",
   "mimetype": "text/x-python",
   "name": "python",
   "nbconvert_exporter": "python",
   "pygments_lexer": "ipython2",
   "version": "2.7.11"
  }
 },
 "nbformat": 4,
 "nbformat_minor": 0
}
